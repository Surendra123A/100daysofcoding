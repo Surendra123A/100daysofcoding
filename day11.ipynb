{
 "cells": [
  {
   "cell_type": "code",
   "execution_count": 5,
   "metadata": {},
   "outputs": [],
   "source": [
    "class NameOfTheClass():\n",
    "    class_attribute = 'value'\n",
    "    def __init__(self,param1,param2):\n",
    "                self.param1 = param1\n",
    "                self.param2 = param2\n",
    "        \n",
    "    def method(self):\n",
    "                pass\n",
    "    \n",
    "    @classmethod\n",
    "    def cls_method(cls, param1, param2):\n",
    "            pass\n",
    "    @staticmethod\n",
    "    def stc_method(param1, param2):\n",
    "            pass"
   ]
  },
  {
   "cell_type": "markdown",
   "metadata": {},
   "source": [
    "# what is self? ANS - It is a pointer for the objects in the functions or class"
   ]
  },
  {
   "cell_type": "code",
   "execution_count": 9,
   "metadata": {},
   "outputs": [
    {
     "name": "stdout",
     "output_type": "stream",
     "text": [
      "<__main__.WhatIsSelf object at 0x000002ABE877ED30>\n"
     ]
    }
   ],
   "source": [
    "#      Example: \n",
    "\n",
    "class WhatIsSelf():\n",
    "    def __init__(self,name):\n",
    "        self.name = name\n",
    "        \n",
    "        \n",
    "    def UseSelf(self):\n",
    "        return self # it returns the value stored in self\n",
    "\n",
    "    \n",
    "ThisIsSelf = WhatIsSelf('SuruS')\n",
    "print(ThisIsSelf.UseSelf()) #the value stored in self is the object location of WhatIsSelf class"
   ]
  },
  {
   "cell_type": "code",
   "execution_count": null,
   "metadata": {},
   "outputs": [],
   "source": []
  }
 ],
 "metadata": {
  "kernelspec": {
   "display_name": "Python 3",
   "language": "python",
   "name": "python3"
  },
  "language_info": {
   "codemirror_mode": {
    "name": "ipython",
    "version": 3
   },
   "file_extension": ".py",
   "mimetype": "text/x-python",
   "name": "python",
   "nbconvert_exporter": "python",
   "pygments_lexer": "ipython3",
   "version": "3.8.5"
  }
 },
 "nbformat": 4,
 "nbformat_minor": 4
}

{
 "cells": [
  {
   "cell_type": "markdown",
   "metadata": {},
   "source": [
    "# functions"
   ]
  },
  {
   "cell_type": "code",
   "execution_count": 4,
   "metadata": {},
   "outputs": [
    {
     "name": "stdout",
     "output_type": "stream",
     "text": [
      "hi suru\n",
      "hi user\n"
     ]
    }
   ],
   "source": [
    "# default parameters\n",
    "def info(name='user'):\n",
    "    print(f'hi {name}')\n",
    "\n",
    "info('suru')\n",
    "info()\n",
    "# here if the parameters are not given it will the dafult value\n",
    "#which avoids errors"
   ]
  },
  {
   "cell_type": "code",
   "execution_count": 27,
   "metadata": {},
   "outputs": [
    {
     "name": "stdout",
     "output_type": "stream",
     "text": [
      "None\n",
      "<function sum2.<locals>.add2 at 0x0000017712105CA0>\n",
      "30\n",
      "30\n"
     ]
    }
   ],
   "source": [
    "# return\n",
    "\n",
    "# nested functions\n",
    "\n",
    "def sum(num1,num2):  # returns none because there is no return mentioned\n",
    "    def add(n1,n2):\n",
    "        return n1+n2\n",
    "    \n",
    "print(sum(10,20))\n",
    "\n",
    "\n",
    "def sum2(num1,num2):  \n",
    "    def add2(n1,n2):\n",
    "        return n1+n2\n",
    "    return add2       # returns address of add2\n",
    "\n",
    "print(sum2(10,20))\n",
    "\n",
    "# complex function call\n",
    "\n",
    "def sum(num1,num2):\n",
    "    def add(n1,n2):\n",
    "        return n1+n2\n",
    "    return add\n",
    "\n",
    "    \n",
    "total = sum(10,20)\n",
    "print(total(10,20))\n",
    "# assigning the values throught the sum() by assigning sum() to a variable and and assigning parameters to the variable\n",
    "\n",
    "\n",
    "\n",
    "\n",
    "\n",
    "def sum2(num1,num2):  \n",
    "    def add2(n1,n2):\n",
    "        return n1+n2\n",
    "    return add2(num1,num2)       # return calls the add2 function \n",
    "\n",
    "print(sum2(10,20))\n",
    "\n"
   ]
  },
  {
   "cell_type": "code",
   "execution_count": 35,
   "metadata": {},
   "outputs": [
    {
     "name": "stdout",
     "output_type": "stream",
     "text": [
      "30\n",
      "Help on function sum in module __main__:\n",
      "\n",
      "sum()\n",
      "    prints the sum of 10 and 20\n",
      "\n",
      "Help on function sum2 in module __main__:\n",
      "\n",
      "sum2(num1, num2)\n",
      "\n"
     ]
    }
   ],
   "source": [
    "# docstring\n",
    "# it give the discription of the function or method when hovered over it\n",
    "# used by ''' ''' inside the funtion\n",
    "#generally gives the the hint of the the function is about\n",
    "def sum():\n",
    "    '''\n",
    "    prints the sum of 10 and 20\n",
    "    '''\n",
    "    return print(10+20)\n",
    "sum()\n",
    "help(sum)\n",
    "\n",
    "# help gives the docstring of the input\n",
    "\n",
    "help(sum2) # sum2() is from the above cell"
   ]
  },
  {
   "cell_type": "markdown",
   "metadata": {},
   "source": [
    "# important: *args and **kwargs\n"
   ]
  },
  {
   "cell_type": "markdown",
   "metadata": {},
   "source": [
    "# *args = arguments\n",
    "# **kwargs == keyword arguments\n"
   ]
  },
  {
   "cell_type": "code",
   "execution_count": 11,
   "metadata": {},
   "outputs": [
    {
     "name": "stdout",
     "output_type": "stream",
     "text": [
      "15\n"
     ]
    }
   ],
   "source": [
    "# args\n",
    "def addition(*args):\n",
    "    return sum(args)# instead of writing ever singal arguments in the parametersuse *args or any word with a * in the start \n",
    "total = addition(1,2,3,4,5)\n",
    "print(total)"
   ]
  },
  {
   "cell_type": "code",
   "execution_count": 9,
   "metadata": {},
   "outputs": [
    {
     "name": "stdout",
     "output_type": "stream",
     "text": [
      "{'num': 1, 'num2': 23}\n",
      "0\n"
     ]
    }
   ],
   "source": [
    "# kwargs\n",
    "\n",
    "def adition(**kwargs):\n",
    "    return kwargs #the kwargs are assigned in the form of a dictionary\n",
    "    \n",
    "    \n",
    "print(addition(num=1, num2 = 23))\n",
    "\n",
    "\n",
    "def sum(**kwargs):\n",
    "    for items in kwargs:\n",
    "        sum()\n"
   ]
  }
 ],
 "metadata": {
  "kernelspec": {
   "display_name": "Python 3",
   "language": "python",
   "name": "python3"
  },
  "language_info": {
   "codemirror_mode": {
    "name": "ipython",
    "version": 3
   },
   "file_extension": ".py",
   "mimetype": "text/x-python",
   "name": "python",
   "nbconvert_exporter": "python",
   "pygments_lexer": "ipython3",
   "version": "3.8.5"
  }
 },
 "nbformat": 4,
 "nbformat_minor": 4
}

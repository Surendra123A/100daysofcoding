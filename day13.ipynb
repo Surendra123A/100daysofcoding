{
 "cells": [
  {
   "cell_type": "markdown",
   "metadata": {},
   "source": [
    "## super()"
   ]
  },
  {
   "cell_type": "code",
   "execution_count": 1,
   "metadata": {},
   "outputs": [
    {
     "name": "stdout",
     "output_type": "stream",
     "text": [
      "surus@gmail.com\n",
      "robin@gmail.com\n"
     ]
    }
   ],
   "source": [
    "class user:\n",
    "    def __init__(self,email):\n",
    "        self.email = email\n",
    "        \n",
    "    def sign_in(self):\n",
    "        print('logged in','\\n')\n",
    "        \n",
    "    def attack(self):\n",
    "        print('do nothing')\n",
    "        \n",
    "class wizard(user):  # inheriting the user as parent class\n",
    "    def __init__(self,name,power,email):\n",
    "        user.__init__(self,email) # this is one way of using super()\n",
    "        self.name = name\n",
    "        self.power = power\n",
    "\n",
    "    def  attack(self):\n",
    "        print(f'attacking with power of {self.power}','\\n')\n",
    "\n",
    "class archer(user):\n",
    "    def __init__(self,name,num_arrows,email):\n",
    "        super().__init__(email) # most common way to use super()\n",
    "        self.name = name\n",
    "        self.num_arrows = num_arrows\n",
    "        \n",
    "    def  attack(self):\n",
    "        print(f'attacking with a arrow: arrows left - {self.num_arrows}','\\n')\n",
    "\n",
    "wizard1 = wizard('surus', 50, 'surus@gmail.com')\n",
    "archer1 = archer('robin', 30, 'robin@gmail.com')\n",
    "\n",
    "def player_attack(char):\n",
    "    char.attack()\n",
    "    \n",
    "print(wizard1.email)\n",
    "print(archer1.email)"
   ]
  },
  {
   "cell_type": "code",
   "execution_count": 15,
   "metadata": {},
   "outputs": [
    {
     "name": "stdout",
     "output_type": "stream",
     "text": [
      "1000\n",
      "[5, 3, 4]\n",
      "True\n",
      "True\n"
     ]
    }
   ],
   "source": [
    "class SuperList(list):\n",
    "    def __len__(self):\n",
    "        return 1000\n",
    "        \n",
    "super_list1 = SuperList()\n",
    "\n",
    "print(len(super_list1))\n",
    "\n",
    "super_list1.append(5)\n",
    "super_list1.append(3)\n",
    "super_list1.append(4)\n",
    "\n",
    "print(super_list1[:])\n",
    "\n",
    "print(issubclass(SuperList, list))\n",
    "print(issubclass(list, object))"
   ]
  },
  {
   "cell_type": "code",
   "execution_count": 73,
   "metadata": {},
   "outputs": [
    {
     "name": "stdout",
     "output_type": "stream",
     "text": [
      "run really fast\n",
      "surus@gmail.com\n",
      "robin@gmail.com\n",
      "30\n"
     ]
    }
   ],
   "source": [
    "class user:\n",
    "    def __init__(self,email):\n",
    "        self.email = email\n",
    "        \n",
    "    def sign_in(self):\n",
    "        print('logged in','\\n')\n",
    "        \n",
    "    def attack(self):\n",
    "        print('do nothing')\n",
    "        \n",
    "class wizard(user):  # inheriting the user as parent class\n",
    "    def __init__(self,name,power,email):\n",
    "        user.__init__(self,email) # this is one way of using super()\n",
    "        self.name = name\n",
    "        self.power = power\n",
    "\n",
    "    def  attack(self):\n",
    "        return f'attacking with power of {self.power}','\\n'\n",
    "\n",
    "class archer(user):\n",
    "    def __init__(self,name,num_arrows,email):\n",
    "        super().__init__(email) # most common way to use super()\n",
    "        self.name = name\n",
    "        self.num_arrows = num_arrows\n",
    "        \n",
    "    def run(self):\n",
    "        return 'run really fast'\n",
    "    \n",
    "    def  attack(self):\n",
    "        return f'attacking with a arrow: arrows left - {self.num_arrows}','\\n'\n",
    "\n",
    "wizard1 = wizard('surus', 50, 'surus@gmail.com')\n",
    "archer1 = archer('robin', 30, 'robin@gmail.com')\n",
    "print(archer1.run())\n",
    "\n",
    "def player_attack(char):\n",
    "    char.attack()\n",
    "    \n",
    "print(wizard1.email)\n",
    "print(archer1.email)\n",
    "print(archer1.num_arrows)\n",
    "\n",
    "\n",
    "\n",
    "    "
   ]
  },
  {
   "cell_type": "markdown",
   "metadata": {},
   "source": [
    "## MRO - Method Resolution Order"
   ]
  },
  {
   "cell_type": "code",
   "execution_count": 86,
   "metadata": {},
   "outputs": [
    {
     "name": "stdout",
     "output_type": "stream",
     "text": [
      "1\n",
      "12\n",
      "[<class '__main__.D'>, <class '__main__.B'>, <class '__main__.C'>, <class '__main__.A'>, <class 'object'>]\n"
     ]
    }
   ],
   "source": [
    "class A:\n",
    "    num = 10\n",
    "    \n",
    "class B(A):\n",
    "    pass\n",
    "\n",
    "class C(A):\n",
    "    num = 1\n",
    "    dum = 12\n",
    "    \n",
    "class D(B, C):\n",
    "    pass\n",
    "\n",
    "\n",
    "print(D.num)\n",
    "print(D.dum)\n",
    "\n",
    "print(D.mro())"
   ]
  },
  {
   "cell_type": "code",
   "execution_count": null,
   "metadata": {},
   "outputs": [],
   "source": [
    "sadf = asdfasdf"
   ]
  }
 ],
 "metadata": {
  "kernelspec": {
   "display_name": "Python 3",
   "language": "python",
   "name": "python3"
  },
  "language_info": {
   "codemirror_mode": {
    "name": "ipython",
    "version": 3
   },
   "file_extension": ".py",
   "mimetype": "text/x-python",
   "name": "python",
   "nbconvert_exporter": "python",
   "pygments_lexer": "ipython3",
   "version": "3.8.5"
  }
 },
 "nbformat": 4,
 "nbformat_minor": 4
}

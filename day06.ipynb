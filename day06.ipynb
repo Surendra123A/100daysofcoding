{
 "cells": [
  {
   "cell_type": "markdown",
   "metadata": {},
   "source": [
    "# things i learnt today "
   ]
  },
  {
   "cell_type": "code",
   "execution_count": 1,
   "metadata": {},
   "outputs": [],
   "source": [
    "# parameters\n",
    "# *args\n",
    "# defualt parameters \n",
    "# **kwargs"
   ]
  },
  {
   "cell_type": "code",
   "execution_count": 2,
   "metadata": {},
   "outputs": [],
   "source": [
    "# rule: the order of writing the parameters are:\n",
    "\n",
    "# function( parameters, *args, defualt parameters, **kwargs)"
   ]
  },
  {
   "cell_type": "code",
   "execution_count": 12,
   "metadata": {},
   "outputs": [
    {
     "name": "stdout",
     "output_type": "stream",
     "text": [
      "(1, 2, 3, 4, 5)\n",
      "{'num1': 10, 'num2': 12}\n",
      "suru \n",
      "\n",
      "37\n"
     ]
    }
   ],
   "source": [
    "def fun(name, *args, i = 'hiiii', **kwargs):\n",
    "    \n",
    "    print(args)      # *args values stored in (tuple)\n",
    "    print(kwargs)    # **kwargs values stored in (set)\n",
    "    print(name,'\\n') # parameter\n",
    "    \n",
    "    total = 0\n",
    "    for item in kwargs.values():\n",
    "        total += item\n",
    "    return sum(args) + total12\n",
    "\n",
    "\n",
    "print(fun('suru', 1,2,3,4,5, num1 = 10, num2 = 12))"
   ]
  },
  {
   "cell_type": "code",
   "execution_count": 61,
   "metadata": {},
   "outputs": [
    {
     "name": "stdout",
     "output_type": "stream",
     "text": [
      "98\n"
     ]
    }
   ],
   "source": [
    "# exercise hightest even\n",
    "\n",
    "def hightest_even(args):\n",
    "    even = []\n",
    "    for item in args:\n",
    "        \n",
    "        if item % 2 == 0:\n",
    "            even.append(item)            \n",
    "    return max(even)\n",
    "print(hightest_even([12,23,43,54,56,6,76,87,87,9,98,989]))\n"
   ]
  }
 ],
 "metadata": {
  "kernelspec": {
   "display_name": "Python 3",
   "language": "python",
   "name": "python3"
  },
  "language_info": {
   "codemirror_mode": {
    "name": "ipython",
    "version": 3
   },
   "file_extension": ".py",
   "mimetype": "text/x-python",
   "name": "python",
   "nbconvert_exporter": "python",
   "pygments_lexer": "ipython3",
   "version": "3.8.5"
  }
 },
 "nbformat": 4,
 "nbformat_minor": 4
}

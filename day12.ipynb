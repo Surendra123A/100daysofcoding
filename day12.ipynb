{
 "cells": [
  {
   "cell_type": "code",
   "execution_count": null,
   "metadata": {},
   "outputs": [],
   "source": [
    " #inheritance"
   ]
  },
  {
   "cell_type": "code",
   "execution_count": 19,
   "metadata": {},
   "outputs": [
    {
     "name": "stdout",
     "output_type": "stream",
     "text": [
      "attacking with power of 50 \n",
      "\n",
      "attacking with a arrow: arrows left - 100 \n",
      "\n",
      "logged in \n",
      "\n",
      "logged in \n",
      "\n"
     ]
    }
   ],
   "source": [
    "class user:\n",
    "    def sign_in(self):\n",
    "        print('logged in','\\n')\n",
    "        \n",
    "class wizard(user):  # inheriting the user as parent class\n",
    "    def __init__(self,name,power):\n",
    "        self.name = name\n",
    "        self.power = power\n",
    "\n",
    "    def  attack(self):\n",
    "        print(f'attacking with power of {self.power}','\\n')\n",
    "\n",
    "class archer(user):\n",
    "    def __init__(self,name,num_arrows):\n",
    "        self.name = name\n",
    "        self.num_arrows = num_arrows\n",
    "        \n",
    "    def  attack(self):\n",
    "        print(f'attacking with a arrow: arrows left - {self.num_arrows}','\\n')\n",
    "\n",
    "wizard1 = wizard('surus', 50)\n",
    "archer1 = archer('robin', 100)\n",
    "wizard1.attack()\n",
    "archer1.attack()\n",
    "\n",
    "wizard1.sign_in()\n",
    "archer1.sign_in()"
   ]
  },
  {
   "cell_type": "code",
   "execution_count": 32,
   "metadata": {},
   "outputs": [
    {
     "name": "stdout",
     "output_type": "stream",
     "text": [
      "True\n",
      "True\n"
     ]
    }
   ],
   "source": [
    "# isinstance\n",
    "# syntax: isinstance(instance, class)\n",
    "\n",
    "class user:\n",
    "    def sign_in(self):\n",
    "        print('logged in','\\n')\n",
    "        \n",
    "class wizard(user):  # inheriting the user as parent class\n",
    "    def __init__(self,name,power):\n",
    "        self.name = name\n",
    "        self.power = power\n",
    "\n",
    "    def  attack(self):\n",
    "        print(f'attacking with power of {self.power}','\\n')\n",
    "\n",
    "class archer(user):\n",
    "    def __init__(self,name,num_arrows):\n",
    "        self.name = name\n",
    "        self.num_arrows = num_arrows\n",
    "        \n",
    "    def  attack(self):\n",
    "        print(f'attacking with a arrow: arrows left - {self.num_arrows}','\\n')\n",
    "\n",
    "wizard1 = wizard('surus',60)\n",
    "\n",
    "print(isinstance(wizard1, wizard))\n",
    "print(isinstance(wizard1, object))"
   ]
  },
  {
   "cell_type": "code",
   "execution_count": 34,
   "metadata": {},
   "outputs": [
    {
     "name": "stdout",
     "output_type": "stream",
     "text": [
      "attacking with power of 50 \n",
      "\n",
      "attacking with a arrow: arrows left - 100 \n",
      "\n"
     ]
    }
   ],
   "source": [
    "# polymorphism - methods in the child class that have \n",
    "# the same name as the methods in the parent class\n",
    "\n",
    "# poly - many\n",
    "# morphism - forms\n",
    "\n",
    "class user:\n",
    "    def sign_in(self):\n",
    "        print('logged in','\\n')\n",
    "        \n",
    "    def attack(self):\n",
    "        print('do nothing')\n",
    "        \n",
    "class wizard(user):  # inheriting the user as parent class\n",
    "    def __init__(self,name,power):\n",
    "        self.name = name\n",
    "        self.power = power\n",
    "\n",
    "    def  attack(self):\n",
    "        print(f'attacking with power of {self.power}','\\n')\n",
    "\n",
    "class archer(user):\n",
    "    def __init__(self,name,num_arrows):\n",
    "        self.name = name\n",
    "        self.num_arrows = num_arrows\n",
    "        \n",
    "    def  attack(self):\n",
    "        print(f'attacking with a arrow: arrows left - {self.num_arrows}','\\n')\n",
    "\n",
    "wizard1 = wizard('surus', 50)\n",
    "archer1 = archer('robin', 100)\n",
    "\n",
    "def player_attack(char):\n",
    "    char.attack()\n",
    "    \n",
    "player_attack(wizard1)\n",
    "\n",
    "player_attack(archer1)\n",
    "\n",
    "# two different values for the same method its beacuse of different objects"
   ]
  },
  {
   "cell_type": "code",
   "execution_count": null,
   "metadata": {},
   "outputs": [],
   "source": [
    "# polymorphism - methods in the child class that have \n",
    "# the same name as the methods in the parent class\n",
    "\n",
    "# poly - many\n",
    "# morphism - forms\n",
    "\n",
    "class user:\n",
    "    def sign_in(self):\n",
    "        print('logged in','\\n')\n",
    "        \n",
    "    def attack(self):\n",
    "        print('do nothing')\n",
    "        \n",
    "class wizard(user):  # inheriting the user as parent class\n",
    "    def __init__(self,name,power):\n",
    "        self.name = name\n",
    "        self.power = power\n",
    "\n",
    "    def  attack(self):\n",
    "        print(f'attacking with power of {self.power}','\\n')\n",
    "\n",
    "class archer(user):\n",
    "    def __init__(self,name,num_arrows):\n",
    "        self.name = name\n",
    "        self.num_arrows = num_arrows\n",
    "        \n",
    "    def  attack(self):\n",
    "        print(f'attacking with a arrow: arrows left - {self.num_arrows}','\\n')\n",
    "\n",
    "wizard1 = wizard('surus', 50)\n",
    "archer1 = archer('robin', 100)\n",
    "\n",
    "def player_attack(char):\n",
    "    char.attack()\n",
    "    \n",
    "player_attack(wizard1)\n",
    "\n",
    "player_attack(archer1)\n",
    "\n",
    "# two different values for the same method its beacuse of different objects"
   ]
  }
 ],
 "metadata": {
  "kernelspec": {
   "display_name": "Python 3",
   "language": "python",
   "name": "python3"
  },
  "language_info": {
   "codemirror_mode": {
    "name": "ipython",
    "version": 3
   },
   "file_extension": ".py",
   "mimetype": "text/x-python",
   "name": "python",
   "nbconvert_exporter": "python",
   "pygments_lexer": "ipython3",
   "version": "3.8.5"
  }
 },
 "nbformat": 4,
 "nbformat_minor": 4
}

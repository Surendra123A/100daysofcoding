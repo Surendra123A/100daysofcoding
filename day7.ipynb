{
 "cells": [
  {
   "cell_type": "markdown",
   "metadata": {},
   "source": [
    "# what I learnt today"
   ]
  },
  {
   "cell_type": "code",
   "execution_count": 1,
   "metadata": {},
   "outputs": [],
   "source": [
    "# walrus operator"
   ]
  },
  {
   "cell_type": "code",
   "execution_count": 14,
   "metadata": {},
   "outputs": [
    {
     "name": "stdout",
     "output_type": "stream",
     "text": [
      "too long 12 elements\n",
      "12\n",
      "11\n",
      "10\n",
      "9\n",
      "8\n",
      "7\n",
      "6\n",
      "5\n",
      "4\n",
      "3\n",
      "2\n",
      "h\n"
     ]
    }
   ],
   "source": [
    "# Warus operator \" :=\"\n",
    "\n",
    "# The operator allows us to assign a value to a variable inside a Python expression\n",
    "\n",
    "a = 'hello world!'\n",
    "\n",
    "if (n := len(a)) > 10: # it assigns in side a python expression\n",
    "    print(f'too long {len(a)} elements')\n",
    "    \n",
    "while((n := len(a)) > 1):\n",
    "    print(n)\n",
    "    a = a[:-1]\n",
    "    \n",
    "print(a)"
   ]
  },
  {
   "cell_type": "code",
   "execution_count": null,
   "metadata": {},
   "outputs": [],
   "source": [
    "# scope"
   ]
  },
  {
   "cell_type": "code",
   "execution_count": 16,
   "metadata": {},
   "outputs": [],
   "source": [
    "# scope: whar variable do I have access to?\n",
    "\n",
    "# it is nothing but tells you the variable type ( public or private )\n",
    "\n",
    "# the checking order of the scope\n",
    "#  1 - start with local(or inside a function or local)\n",
    "#  2 - look in for parent function\n",
    "#  3 - check for global variable\n",
    "#  4 - check for built-in function in python"
   ]
  },
  {
   "cell_type": "code",
   "execution_count": 17,
   "metadata": {},
   "outputs": [],
   "source": [
    "# global "
   ]
  },
  {
   "cell_type": "markdown",
   "metadata": {},
   "source": [
    "# global : it helps you use the global variable\n",
    "\n",
    "total = 0 # this is a global variable\n",
    "\n",
    "def counter():\n",
    "    global total # this will take the global variable outside the function\n",
    "    total += 1\n",
    "    return total\n",
    "counter()\n",
    "counter()\n",
    "counter()\n",
    "counter()\n",
    "print(counter()) \n",
    "print(total) # and it will also reasigns the global variable\n",
    "\n",
    "## with resurrsion we can use global variable and not change it"
   ]
  },
  {
   "cell_type": "markdown",
   "metadata": {},
   "source": [
    "# nonlocal keyword"
   ]
  },
  {
   "cell_type": "markdown",
   "metadata": {},
   "source": [
    "###  this nonlocal keyword will act like a global keyword \n",
    "### used in child function for get the value from the parent function"
   ]
  },
  {
   "cell_type": "code",
   "execution_count": 26,
   "metadata": {},
   "outputs": [
    {
     "name": "stdout",
     "output_type": "stream",
     "text": [
      "child function: hello changed in child function\n",
      "parent function: hello changed in child function\n"
     ]
    }
   ],
   "source": [
    "# example:\n",
    "\n",
    "def parent():\n",
    "    item = 'hello'\n",
    "    def child():\n",
    "        nonlocal item\n",
    "        item = 'hello changed in child function'\n",
    "        print(f'child function: {item}')\n",
    "        return item\n",
    "    child()\n",
    "    print(f'parent function: {item}')\n",
    "\n",
    "parent()"
   ]
  },
  {
   "cell_type": "code",
   "execution_count": 39,
   "metadata": {},
   "outputs": [
    {
     "name": "stdout",
     "output_type": "stream",
     "text": [
      "{2, 100, 4, 5, 7, 101, 1034}\n"
     ]
    }
   ],
   "source": [
    "my_set = {5, 4, 4, 7, 2, 2}\n",
    "\n",
    "my_set.add(100)\n",
    "my_set.add(101)\n",
    "my_set.add(1034)\n",
    "\n",
    "print(my_set)"
   ]
  }
 ],
 "metadata": {
  "kernelspec": {
   "display_name": "Python 3",
   "language": "python",
   "name": "python3"
  },
  "language_info": {
   "codemirror_mode": {
    "name": "ipython",
    "version": 3
   },
   "file_extension": ".py",
   "mimetype": "text/x-python",
   "name": "python",
   "nbconvert_exporter": "python",
   "pygments_lexer": "ipython3",
   "version": "3.8.5"
  }
 },
 "nbformat": 4,
 "nbformat_minor": 4
}

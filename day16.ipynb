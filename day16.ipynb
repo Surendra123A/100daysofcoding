{
 "cells": [
  {
   "cell_type": "code",
   "execution_count": 7,
   "metadata": {},
   "outputs": [
    {
     "name": "stdout",
     "output_type": "stream",
     "text": [
      "[(4, 6), (3, 7), (2, 8), (1, 9)]\n"
     ]
    }
   ],
   "source": [
    "a = [(1,9), (2,8), (3,7), (4,6)]\n",
    "a.sort(key = lambda x: x[1])\n",
    "print(a)"
   ]
  },
  {
   "cell_type": "code",
   "execution_count": 10,
   "metadata": {},
   "outputs": [
    {
     "name": "stdout",
     "output_type": "stream",
     "text": [
      "((1, 9), (2, 8), (3, 7), (4, 6))\n",
      "[((1, 9), (2, 8), (3, 7), (4, 6))]\n",
      "[(1, 9), (2, 8), (3, 7), (4, 6)]\n"
     ]
    }
   ],
   "source": [
    "b = (1,9), (2,8), (3,7), (4,6)\n",
    "lis = [b]\n",
    "List = list(b)\n",
    "print(b)\n",
    "print(lis)\n",
    "print(List)"
   ]
  },
  {
   "cell_type": "markdown",
   "metadata": {},
   "source": [
    "# Comprehensions\n",
    "\n",
    "   ## List comprehensions"
   ]
  },
  {
   "cell_type": "markdown",
   "metadata": {},
   "source": [
    "there are three comprehensions\n",
    "\n",
    "list comprehensions, \n",
    "set comprehensions, \n",
    "dictionary comprehensions"
   ]
  },
  {
   "cell_type": "code",
   "execution_count": 17,
   "metadata": {},
   "outputs": [
    {
     "name": "stdout",
     "output_type": "stream",
     "text": [
      "[0, 4, 8, 12, 16, 20, 24, 28, 32, 36, 40, 44, 48, 52, 56, 60, 64, 68, 72, 76, 80, 84, 88, 92, 96, 100, 104, 108, 112, 116, 120, 124, 128, 132, 136, 140, 144, 148, 152, 156, 160, 164, 168, 172, 176, 180, 184, 188, 192, 196]\n"
     ]
    }
   ],
   "source": [
    "my_list = [num*2 for num in range(0,100)]\n",
    "# print(my_list)\n",
    "\n",
    "\n",
    "# print only even\n",
    "\n",
    "my_list1= [num*2 for num in range(0,100) if num%2 == 0 ]\n",
    "print(my_list1)"
   ]
  },
  {
   "cell_type": "markdown",
   "metadata": {},
   "source": [
    "## set comprehensions"
   ]
  },
  {
   "cell_type": "code",
   "execution_count": 18,
   "metadata": {},
   "outputs": [
    {
     "name": "stdout",
     "output_type": "stream",
     "text": [
      "{0, 128, 4, 132, 8, 136, 12, 140, 16, 144, 20, 148, 24, 152, 28, 156, 32, 160, 36, 164, 40, 168, 44, 172, 48, 176, 52, 180, 56, 184, 60, 188, 64, 192, 68, 196, 72, 76, 80, 84, 88, 92, 96, 100, 104, 108, 112, 116, 120, 124}\n"
     ]
    }
   ],
   "source": [
    "    my_list = {num*2 for num in range(0,100)}\n",
    "# print(my_list)\n",
    "\n",
    "\n",
    "# print only even\n",
    "\n",
    "my_list1= {num*2 for num in range(0,100) if num%2 == 0 }\n",
    "print(my_list1)"
   ]
  },
  {
   "cell_type": "markdown",
   "metadata": {},
   "source": [
    "## dictionary comprehensions"
   ]
  },
  {
   "cell_type": "code",
   "execution_count": 25,
   "metadata": {},
   "outputs": [
    {
     "data": {
      "text/plain": [
       "{'b': 4, 'd': 16}"
      ]
     },
     "execution_count": 25,
     "metadata": {},
     "output_type": "execute_result"
    }
   ],
   "source": [
    "simple_dict = {\n",
    "    'a': 1,\n",
    "    'b': 2,\n",
    "    'c': 3,\n",
    "    'd': 4\n",
    "}\n",
    "\n",
    "my_dict = {keys: values**2 for keys,values in simple_dict.items() if values%2 == 0}\n",
    "my_dict"
   ]
  },
  {
   "cell_type": "code",
   "execution_count": 28,
   "metadata": {},
   "outputs": [
    {
     "name": "stdout",
     "output_type": "stream",
     "text": [
      "{'b': 4, 'd': 16}\n"
     ]
    },
    {
     "data": {
      "text/plain": [
       "{1: 1, 2: 2, 3: 3, 4: 4, 5: 5}"
      ]
     },
     "execution_count": 28,
     "metadata": {},
     "output_type": "execute_result"
    }
   ],
   "source": [
    "new_dict = {key: value for key,value in my_dict.items()}\n",
    "print(new_dict)\n",
    "\n",
    "# or\n",
    "\n",
    "lis = [1,2,3,4,5]\n",
    "my_new_dict = {}\n",
    "for item in lis:\n",
    "    my_new_dict.__setitem__(item, item)\n",
    "    \n",
    "my_new_dict"
   ]
  },
  {
   "cell_type": "code",
   "execution_count": 29,
   "metadata": {},
   "outputs": [
    {
     "data": {
      "text/plain": [
       "{1: 2, 2: 4, 3: 6}"
      ]
     },
     "execution_count": 29,
     "metadata": {},
     "output_type": "execute_result"
    }
   ],
   "source": [
    "new_dict2 = {num:num*2 for num in [1,2,3]}\n",
    "new_dict2"
   ]
  },
  {
   "cell_type": "code",
   "execution_count": 30,
   "metadata": {},
   "outputs": [
    {
     "name": "stdout",
     "output_type": "stream",
     "text": [
      "['n', 'b']\n"
     ]
    }
   ],
   "source": [
    "some_list = ['a', 'b', 'c', 'b', 'd', 'm', 'n', 'n']\n",
    "dub = list({item for item in some_list if some_list.count(item) > 1})\n",
    "print(dub)\n",
    "\n",
    "# for item in some_list:\n",
    "#     if some_list.count(item) > 1:\n",
    "#         if item not in dub:\n",
    "#             dub.append(item)\n",
    "            \n"
   ]
  },
  {
   "cell_type": "code",
   "execution_count": null,
   "metadata": {},
   "outputs": [],
   "source": []
  }
 ],
 "metadata": {
  "kernelspec": {
   "display_name": "Python 3",
   "language": "python",
   "name": "python3"
  },
  "language_info": {
   "codemirror_mode": {
    "name": "ipython",
    "version": 3
   },
   "file_extension": ".py",
   "mimetype": "text/x-python",
   "name": "python",
   "nbconvert_exporter": "python",
   "pygments_lexer": "ipython3",
   "version": "3.8.5"
  }
 },
 "nbformat": 4,
 "nbformat_minor": 4
}

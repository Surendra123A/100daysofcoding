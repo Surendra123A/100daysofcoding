{
 "cells": [
  {
   "cell_type": "code",
   "execution_count": 1,
   "metadata": {},
   "outputs": [],
   "source": [
    "# @classmethod and @staticmethod"
   ]
  },
  {
   "cell_type": "code",
   "execution_count": 2,
   "metadata": {},
   "outputs": [
    {
     "name": "stdout",
     "output_type": "stream",
     "text": [
      "surus\n",
      "20\n",
      "player-1: surus is 20 years old\n",
      "run\n",
      "done \n",
      "\n",
      "True\n"
     ]
    }
   ],
   "source": [
    "#example from the yesterday's pratice sessionadding_things\n",
    "\n",
    "\n",
    "\n",
    "class PlayerCharacter:\n",
    "    membership = True\n",
    "    def __init__(self, name, age):\n",
    "        if (self.membership):\n",
    "            self.name = name # attributes\n",
    "            self.age = age\n",
    "        \n",
    "    def run(self):\n",
    "        print('run')\n",
    "        return 'done'\n",
    "       \n",
    "    @classmethod\n",
    "    def adding_things(cls, num1, num2):   # like self here we use the cls('class')\n",
    "        return num1+num2\n",
    "    \n",
    "        \n",
    "player1 = PlayerCharacter('surus', 20)\n",
    "print(player1.name)\n",
    "print(player1.age)\n",
    "print(f'player-1: {player1.name} is {player1.age} years old')\n",
    "print(player1.run(),'\\n')\n",
    "\n",
    "\n",
    "print(player1.membership)"
   ]
  },
  {
   "cell_type": "code",
   "execution_count": null,
   "metadata": {},
   "outputs": [],
   "source": []
  }
 ],
 "metadata": {
  "kernelspec": {
   "display_name": "Python 3",
   "language": "python",
   "name": "python3"
  },
  "language_info": {
   "codemirror_mode": {
    "name": "ipython",
    "version": 3
   },
   "file_extension": ".py",
   "mimetype": "text/x-python",
   "name": "python",
   "nbconvert_exporter": "python",
   "pygments_lexer": "ipython3",
   "version": "3.8.5"
  }
 },
 "nbformat": 4,
 "nbformat_minor": 4
}

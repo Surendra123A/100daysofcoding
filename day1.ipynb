{
 "cells": [
  {
   "cell_type": "code",
   "execution_count": 1,
   "metadata": {},
   "outputs": [
    {
     "name": "stdout",
     "output_type": "stream",
     "text": [
      "1\n",
      "2\n",
      "1\n",
      "3\n",
      "[[0, 0, 0], [0, 0, 1], [0, 1, 0], [0, 1, 1], [0, 2, 0], [1, 0, 0], [1, 0, 1], [1, 1, 0], [1, 2, 1]]\n"
     ]
    }
   ],
   "source": [
    "# exercise - 1\n",
    "# Let's learn about list comprehensions! You are given three integers x,y and z representing the dimensions of a cuboid along with an integer n.\n",
    "# Print a list of all possible coordinates given by (i,y,k) on a 3D grid where the sum of i+j+k is not equal to n. Here,\n",
    "# Please use list comprehensions rather than multiple loops\n",
    "\n",
    "\n",
    "x = int(input())\n",
    "y = int(input())\n",
    "z = int(input())\n",
    "n = int(input())\n",
    "#execute all possible values \n",
    "#remove all the values equal to n and print the rest\n",
    "print([[i,j,k] for i in range(0,x+1) for j in range(0,y+1) for k in range(0,z+1) if i+j+k != n])\n",
    "\n",
    "\n",
    "\n"
   ]
  },
  {
   "cell_type": "markdown",
   "metadata": {},
   "source": [
    "# Learning"
   ]
  },
  {
   "cell_type": "code",
   "execution_count": 4,
   "metadata": {},
   "outputs": [
    {
     "name": "stdout",
     "output_type": "stream",
     "text": [
      "range(0, 11) \n",
      "\n",
      "0 1 2 3 4 5 6 7 8 9 \n",
      "\n",
      "0 2 4 6 8 \n",
      "\n",
      "[0, 1, 2, 3, 4, 5, 6, 7, 8, 9]\n",
      "[0, 1, 2, 3, 4, 5, 6, 7, 8, 9]\n",
      "\n",
      "\n"
     ]
    }
   ],
   "source": [
    "# range()\n",
    "print(range(0,11),'\\n')\n",
    "for i in range(0,10):\n",
    "    print(i,end=\" \")\n",
    "print('\\n')\n",
    "for i in range(0,10,2):\n",
    "    print(i,end=\" \")\n",
    "print('\\n')\n",
    "for i in range(2):\n",
    "    print(list(range(10)))\n",
    "print('\\n')\n"
   ]
  },
  {
   "cell_type": "markdown",
   "metadata": {},
   "source": [
    "# thing i learnt today "
   ]
  },
  {
   "cell_type": "code",
   "execution_count": null,
   "metadata": {},
   "outputs": [],
   "source": [
    "# range()\n",
    "#"
   ]
  }
 ],
 "metadata": {
  "kernelspec": {
   "display_name": "Python 3",
   "language": "python",
   "name": "python3"
  },
  "language_info": {
   "codemirror_mode": {
    "name": "ipython",
    "version": 3
   },
   "file_extension": ".py",
   "mimetype": "text/x-python",
   "name": "python",
   "nbconvert_exporter": "python",
   "pygments_lexer": "ipython3",
   "version": "3.8.5"
  }
 },
 "nbformat": 4,
 "nbformat_minor": 4
}

{
 "cells": [
  {
   "cell_type": "markdown",
   "metadata": {},
   "source": [
    "# what i learnt today?"
   ]
  },
  {
   "cell_type": "code",
   "execution_count": null,
   "metadata": {},
   "outputs": [],
   "source": [
    "# classes and objects\n",
    "# attributes and methods\n",
    "# __init__()\n",
    "# self parameter\n",
    "# help keyword"
   ]
  },
  {
   "cell_type": "code",
   "execution_count": 26,
   "metadata": {},
   "outputs": [
    {
     "name": "stdout",
     "output_type": "stream",
     "text": [
      "30\n"
     ]
    }
   ],
   "source": [
    "class demo:\n",
    "    def add(a):\n",
    "        ans = sum(a)\n",
    "        return ans\n",
    "\n",
    "obj = demo()\n",
    "a = [10, 20]       \n",
    "print(demo.add(a))\n",
    "    "
   ]
  },
  {
   "cell_type": "code",
   "execution_count": 32,
   "metadata": {},
   "outputs": [
    {
     "name": "stdout",
     "output_type": "stream",
     "text": [
      "surus\n",
      "20\n",
      "player-1: surus is 20 years old\n",
      "run\n",
      "done \n",
      "\n",
      "True\n"
     ]
    }
   ],
   "source": [
    "class PlayerCharacter:\n",
    "    membership = True\n",
    "    def __init__(self, name, age):\n",
    "        if (self.membership):\n",
    "            self.name = name # attributes\n",
    "            self.age = age\n",
    "        \n",
    "    def run(self):\n",
    "        print('run')\n",
    "        return 'done'\n",
    "        \n",
    "        \n",
    "player1 = PlayerCharacter('surus', 20)\n",
    "print(player1.name)\n",
    "print(player1.age)\n",
    "print(f'player-1: {player1.name} is {player1.age} years old')\n",
    "print(player1.run(),'\\n')\n",
    "\n",
    "\n",
    "print(player1.membership)"
   ]
  },
  {
   "cell_type": "code",
   "execution_count": 27,
   "metadata": {},
   "outputs": [
    {
     "name": "stdout",
     "output_type": "stream",
     "text": [
      "Help on PlayerCharacter in module __main__ object:\n",
      "\n",
      "class PlayerCharacter(builtins.object)\n",
      " |  PlayerCharacter(name, age)\n",
      " |  \n",
      " |  Methods defined here:\n",
      " |  \n",
      " |  __init__(self, name, age)\n",
      " |      Initialize self.  See help(type(self)) for accurate signature.\n",
      " |  \n",
      " |  run(self)\n",
      " |  \n",
      " |  ----------------------------------------------------------------------\n",
      " |  Data descriptors defined here:\n",
      " |  \n",
      " |  __dict__\n",
      " |      dictionary for instance variables (if defined)\n",
      " |  \n",
      " |  __weakref__\n",
      " |      list of weak references to the object (if defined)\n",
      "\n"
     ]
    }
   ],
   "source": [
    "help(player1) # \"help\" gives the whole blue print of the object 'player1'"
   ]
  },
  {
   "cell_type": "markdown",
   "metadata": {},
   "source": [
    "## Exercise: Cats Everywhere"
   ]
  },
  {
   "cell_type": "code",
   "execution_count": 33,
   "metadata": {},
   "outputs": [],
   "source": [
    "# 1 Instantiate the Cat object with 3 cats\n",
    "\n",
    "\n",
    "\n",
    "# 2 Create a function that finds the oldest cat\n",
    "\n",
    "\n",
    "\n",
    "# 3 Print out: \"The oldest cat is x years old.\". x will be the oldest cat age by using the function in #2"
   ]
  },
  {
   "cell_type": "code",
   "execution_count": 37,
   "metadata": {},
   "outputs": [
    {
     "name": "stdout",
     "output_type": "stream",
     "text": [
      "The oldest cat is 5 years old.\n"
     ]
    }
   ],
   "source": [
    "#Given the below class:\n",
    "class Cat:\n",
    "    species = 'mammal'\n",
    "    def __init__(self, name, age):\n",
    "        self.name = name\n",
    "        self.age = age\n",
    "        \n",
    "\n",
    "tiger = Cat('tiger', 5)\n",
    "\n",
    "wishper = Cat('wishper',3)\n",
    "\n",
    "starlight = Cat('starlight',4)\n",
    "\n",
    "def oldestCatOutThere(*args):\n",
    "    return max(tiger.age, wishper.age, starlight.age)\n",
    "\n",
    "print(f'The oldest cat is {oldestCat} years old.')\n",
    "\n"
   ]
  }
 ],
 "metadata": {
  "kernelspec": {
   "display_name": "Python 3",
   "language": "python",
   "name": "python3"
  },
  "language_info": {
   "codemirror_mode": {
    "name": "ipython",
    "version": 3
   },
   "file_extension": ".py",
   "mimetype": "text/x-python",
   "name": "python",
   "nbconvert_exporter": "python",
   "pygments_lexer": "ipython3",
   "version": "3.8.5"
  }
 },
 "nbformat": 4,
 "nbformat_minor": 4
}
